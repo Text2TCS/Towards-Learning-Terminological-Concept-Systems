{
  "nbformat": 4,
  "nbformat_minor": 0,
  "metadata": {
    "colab": {
      "name": "Pipeline LDK",
      "provenance": []
    },
    "kernelspec": {
      "name": "python3",
      "display_name": "Python 3"
    },
    "widgets": {
      "application/vnd.jupyter.widget-state+json": {
        "b3d333ffcede41fa8271faae3f265560": {
          "model_module": "@jupyter-widgets/controls",
          "model_name": "HBoxModel",
          "state": {
            "_view_name": "HBoxView",
            "_dom_classes": [],
            "_model_name": "HBoxModel",
            "_view_module": "@jupyter-widgets/controls",
            "_model_module_version": "1.5.0",
            "_view_count": null,
            "_view_module_version": "1.5.0",
            "box_style": "",
            "layout": "IPY_MODEL_a83dba1d35b2425bbbf06b2b9d95a6b4",
            "_model_module": "@jupyter-widgets/controls",
            "children": [
              "IPY_MODEL_ca5be59af2e94d23aa1e4f09291edd4f",
              "IPY_MODEL_c882c56646a24f81ba2e5e206c742ccf"
            ]
          }
        },
        "a83dba1d35b2425bbbf06b2b9d95a6b4": {
          "model_module": "@jupyter-widgets/base",
          "model_name": "LayoutModel",
          "state": {
            "_view_name": "LayoutView",
            "grid_template_rows": null,
            "right": null,
            "justify_content": null,
            "_view_module": "@jupyter-widgets/base",
            "overflow": null,
            "_model_module_version": "1.2.0",
            "_view_count": null,
            "flex_flow": null,
            "width": null,
            "min_width": null,
            "border": null,
            "align_items": null,
            "bottom": null,
            "_model_module": "@jupyter-widgets/base",
            "top": null,
            "grid_column": null,
            "overflow_y": null,
            "overflow_x": null,
            "grid_auto_flow": null,
            "grid_area": null,
            "grid_template_columns": null,
            "flex": null,
            "_model_name": "LayoutModel",
            "justify_items": null,
            "grid_row": null,
            "max_height": null,
            "align_content": null,
            "visibility": null,
            "align_self": null,
            "height": null,
            "min_height": null,
            "padding": null,
            "grid_auto_rows": null,
            "grid_gap": null,
            "max_width": null,
            "order": null,
            "_view_module_version": "1.2.0",
            "grid_template_areas": null,
            "object_position": null,
            "object_fit": null,
            "grid_auto_columns": null,
            "margin": null,
            "display": null,
            "left": null
          }
        },
        "ca5be59af2e94d23aa1e4f09291edd4f": {
          "model_module": "@jupyter-widgets/controls",
          "model_name": "FloatProgressModel",
          "state": {
            "_view_name": "ProgressView",
            "style": "IPY_MODEL_fa120f5a7023402cb4628a55bf29b71d",
            "_dom_classes": [],
            "description": "Downloading: 100%",
            "_model_name": "FloatProgressModel",
            "bar_style": "success",
            "max": 5069051,
            "_view_module": "@jupyter-widgets/controls",
            "_model_module_version": "1.5.0",
            "value": 5069051,
            "_view_count": null,
            "_view_module_version": "1.5.0",
            "orientation": "horizontal",
            "min": 0,
            "description_tooltip": null,
            "_model_module": "@jupyter-widgets/controls",
            "layout": "IPY_MODEL_07f4c0a0d8554549b19476371b1bf9b6"
          }
        },
        "c882c56646a24f81ba2e5e206c742ccf": {
          "model_module": "@jupyter-widgets/controls",
          "model_name": "HTMLModel",
          "state": {
            "_view_name": "HTMLView",
            "style": "IPY_MODEL_d23bff412bee40a0867f0be8b71d7c7f",
            "_dom_classes": [],
            "description": "",
            "_model_name": "HTMLModel",
            "placeholder": "​",
            "_view_module": "@jupyter-widgets/controls",
            "_model_module_version": "1.5.0",
            "value": " 5.07M/5.07M [00:01&lt;00:00, 4.55MB/s]",
            "_view_count": null,
            "_view_module_version": "1.5.0",
            "description_tooltip": null,
            "_model_module": "@jupyter-widgets/controls",
            "layout": "IPY_MODEL_ea0909fa34c141cea1bc99f4e0af8f4c"
          }
        },
        "fa120f5a7023402cb4628a55bf29b71d": {
          "model_module": "@jupyter-widgets/controls",
          "model_name": "ProgressStyleModel",
          "state": {
            "_view_name": "StyleView",
            "_model_name": "ProgressStyleModel",
            "description_width": "initial",
            "_view_module": "@jupyter-widgets/base",
            "_model_module_version": "1.5.0",
            "_view_count": null,
            "_view_module_version": "1.2.0",
            "bar_color": null,
            "_model_module": "@jupyter-widgets/controls"
          }
        },
        "07f4c0a0d8554549b19476371b1bf9b6": {
          "model_module": "@jupyter-widgets/base",
          "model_name": "LayoutModel",
          "state": {
            "_view_name": "LayoutView",
            "grid_template_rows": null,
            "right": null,
            "justify_content": null,
            "_view_module": "@jupyter-widgets/base",
            "overflow": null,
            "_model_module_version": "1.2.0",
            "_view_count": null,
            "flex_flow": null,
            "width": null,
            "min_width": null,
            "border": null,
            "align_items": null,
            "bottom": null,
            "_model_module": "@jupyter-widgets/base",
            "top": null,
            "grid_column": null,
            "overflow_y": null,
            "overflow_x": null,
            "grid_auto_flow": null,
            "grid_area": null,
            "grid_template_columns": null,
            "flex": null,
            "_model_name": "LayoutModel",
            "justify_items": null,
            "grid_row": null,
            "max_height": null,
            "align_content": null,
            "visibility": null,
            "align_self": null,
            "height": null,
            "min_height": null,
            "padding": null,
            "grid_auto_rows": null,
            "grid_gap": null,
            "max_width": null,
            "order": null,
            "_view_module_version": "1.2.0",
            "grid_template_areas": null,
            "object_position": null,
            "object_fit": null,
            "grid_auto_columns": null,
            "margin": null,
            "display": null,
            "left": null
          }
        },
        "d23bff412bee40a0867f0be8b71d7c7f": {
          "model_module": "@jupyter-widgets/controls",
          "model_name": "DescriptionStyleModel",
          "state": {
            "_view_name": "StyleView",
            "_model_name": "DescriptionStyleModel",
            "description_width": "",
            "_view_module": "@jupyter-widgets/base",
            "_model_module_version": "1.5.0",
            "_view_count": null,
            "_view_module_version": "1.2.0",
            "_model_module": "@jupyter-widgets/controls"
          }
        },
        "ea0909fa34c141cea1bc99f4e0af8f4c": {
          "model_module": "@jupyter-widgets/base",
          "model_name": "LayoutModel",
          "state": {
            "_view_name": "LayoutView",
            "grid_template_rows": null,
            "right": null,
            "justify_content": null,
            "_view_module": "@jupyter-widgets/base",
            "overflow": null,
            "_model_module_version": "1.2.0",
            "_view_count": null,
            "flex_flow": null,
            "width": null,
            "min_width": null,
            "border": null,
            "align_items": null,
            "bottom": null,
            "_model_module": "@jupyter-widgets/base",
            "top": null,
            "grid_column": null,
            "overflow_y": null,
            "overflow_x": null,
            "grid_auto_flow": null,
            "grid_area": null,
            "grid_template_columns": null,
            "flex": null,
            "_model_name": "LayoutModel",
            "justify_items": null,
            "grid_row": null,
            "max_height": null,
            "align_content": null,
            "visibility": null,
            "align_self": null,
            "height": null,
            "min_height": null,
            "padding": null,
            "grid_auto_rows": null,
            "grid_gap": null,
            "max_width": null,
            "order": null,
            "_view_module_version": "1.2.0",
            "grid_template_areas": null,
            "object_position": null,
            "object_fit": null,
            "grid_auto_columns": null,
            "margin": null,
            "display": null,
            "left": null
          }
        },
        "25eaf32fb66846d88496264f6e073eae": {
          "model_module": "@jupyter-widgets/controls",
          "model_name": "HBoxModel",
          "state": {
            "_view_name": "HBoxView",
            "_dom_classes": [],
            "_model_name": "HBoxModel",
            "_view_module": "@jupyter-widgets/controls",
            "_model_module_version": "1.5.0",
            "_view_count": null,
            "_view_module_version": "1.5.0",
            "box_style": "",
            "layout": "IPY_MODEL_2b8ced7e67084cbd865bb7e064b87b0e",
            "_model_module": "@jupyter-widgets/controls",
            "children": [
              "IPY_MODEL_f2ff88b0edb64cb59f561aa271a464e3",
              "IPY_MODEL_f41762de9aee40a2941821e9d2cbe5b2"
            ]
          }
        },
        "2b8ced7e67084cbd865bb7e064b87b0e": {
          "model_module": "@jupyter-widgets/base",
          "model_name": "LayoutModel",
          "state": {
            "_view_name": "LayoutView",
            "grid_template_rows": null,
            "right": null,
            "justify_content": null,
            "_view_module": "@jupyter-widgets/base",
            "overflow": null,
            "_model_module_version": "1.2.0",
            "_view_count": null,
            "flex_flow": null,
            "width": null,
            "min_width": null,
            "border": null,
            "align_items": null,
            "bottom": null,
            "_model_module": "@jupyter-widgets/base",
            "top": null,
            "grid_column": null,
            "overflow_y": null,
            "overflow_x": null,
            "grid_auto_flow": null,
            "grid_area": null,
            "grid_template_columns": null,
            "flex": null,
            "_model_name": "LayoutModel",
            "justify_items": null,
            "grid_row": null,
            "max_height": null,
            "align_content": null,
            "visibility": null,
            "align_self": null,
            "height": null,
            "min_height": null,
            "padding": null,
            "grid_auto_rows": null,
            "grid_gap": null,
            "max_width": null,
            "order": null,
            "_view_module_version": "1.2.0",
            "grid_template_areas": null,
            "object_position": null,
            "object_fit": null,
            "grid_auto_columns": null,
            "margin": null,
            "display": null,
            "left": null
          }
        },
        "f2ff88b0edb64cb59f561aa271a464e3": {
          "model_module": "@jupyter-widgets/controls",
          "model_name": "FloatProgressModel",
          "state": {
            "_view_name": "ProgressView",
            "style": "IPY_MODEL_286f45d8d837403dbbc7c1ca5f62986a",
            "_dom_classes": [],
            "description": "Downloading: 100%",
            "_model_name": "FloatProgressModel",
            "bar_style": "success",
            "max": 9096718,
            "_view_module": "@jupyter-widgets/controls",
            "_model_module_version": "1.5.0",
            "value": 9096718,
            "_view_count": null,
            "_view_module_version": "1.5.0",
            "orientation": "horizontal",
            "min": 0,
            "description_tooltip": null,
            "_model_module": "@jupyter-widgets/controls",
            "layout": "IPY_MODEL_a53406ec316c40b1b0dc429b29a7df67"
          }
        },
        "f41762de9aee40a2941821e9d2cbe5b2": {
          "model_module": "@jupyter-widgets/controls",
          "model_name": "HTMLModel",
          "state": {
            "_view_name": "HTMLView",
            "style": "IPY_MODEL_801096255e3c4d6d887ec22bafd40ce0",
            "_dom_classes": [],
            "description": "",
            "_model_name": "HTMLModel",
            "placeholder": "​",
            "_view_module": "@jupyter-widgets/controls",
            "_model_module_version": "1.5.0",
            "value": " 9.10M/9.10M [00:24&lt;00:00, 377kB/s]",
            "_view_count": null,
            "_view_module_version": "1.5.0",
            "description_tooltip": null,
            "_model_module": "@jupyter-widgets/controls",
            "layout": "IPY_MODEL_b6d9997a6e5c4d998fd491cec9bd0427"
          }
        },
        "286f45d8d837403dbbc7c1ca5f62986a": {
          "model_module": "@jupyter-widgets/controls",
          "model_name": "ProgressStyleModel",
          "state": {
            "_view_name": "StyleView",
            "_model_name": "ProgressStyleModel",
            "description_width": "initial",
            "_view_module": "@jupyter-widgets/base",
            "_model_module_version": "1.5.0",
            "_view_count": null,
            "_view_module_version": "1.2.0",
            "bar_color": null,
            "_model_module": "@jupyter-widgets/controls"
          }
        },
        "a53406ec316c40b1b0dc429b29a7df67": {
          "model_module": "@jupyter-widgets/base",
          "model_name": "LayoutModel",
          "state": {
            "_view_name": "LayoutView",
            "grid_template_rows": null,
            "right": null,
            "justify_content": null,
            "_view_module": "@jupyter-widgets/base",
            "overflow": null,
            "_model_module_version": "1.2.0",
            "_view_count": null,
            "flex_flow": null,
            "width": null,
            "min_width": null,
            "border": null,
            "align_items": null,
            "bottom": null,
            "_model_module": "@jupyter-widgets/base",
            "top": null,
            "grid_column": null,
            "overflow_y": null,
            "overflow_x": null,
            "grid_auto_flow": null,
            "grid_area": null,
            "grid_template_columns": null,
            "flex": null,
            "_model_name": "LayoutModel",
            "justify_items": null,
            "grid_row": null,
            "max_height": null,
            "align_content": null,
            "visibility": null,
            "align_self": null,
            "height": null,
            "min_height": null,
            "padding": null,
            "grid_auto_rows": null,
            "grid_gap": null,
            "max_width": null,
            "order": null,
            "_view_module_version": "1.2.0",
            "grid_template_areas": null,
            "object_position": null,
            "object_fit": null,
            "grid_auto_columns": null,
            "margin": null,
            "display": null,
            "left": null
          }
        },
        "801096255e3c4d6d887ec22bafd40ce0": {
          "model_module": "@jupyter-widgets/controls",
          "model_name": "DescriptionStyleModel",
          "state": {
            "_view_name": "StyleView",
            "_model_name": "DescriptionStyleModel",
            "description_width": "",
            "_view_module": "@jupyter-widgets/base",
            "_model_module_version": "1.5.0",
            "_view_count": null,
            "_view_module_version": "1.2.0",
            "_model_module": "@jupyter-widgets/controls"
          }
        },
        "b6d9997a6e5c4d998fd491cec9bd0427": {
          "model_module": "@jupyter-widgets/base",
          "model_name": "LayoutModel",
          "state": {
            "_view_name": "LayoutView",
            "grid_template_rows": null,
            "right": null,
            "justify_content": null,
            "_view_module": "@jupyter-widgets/base",
            "overflow": null,
            "_model_module_version": "1.2.0",
            "_view_count": null,
            "flex_flow": null,
            "width": null,
            "min_width": null,
            "border": null,
            "align_items": null,
            "bottom": null,
            "_model_module": "@jupyter-widgets/base",
            "top": null,
            "grid_column": null,
            "overflow_y": null,
            "overflow_x": null,
            "grid_auto_flow": null,
            "grid_area": null,
            "grid_template_columns": null,
            "flex": null,
            "_model_name": "LayoutModel",
            "justify_items": null,
            "grid_row": null,
            "max_height": null,
            "align_content": null,
            "visibility": null,
            "align_self": null,
            "height": null,
            "min_height": null,
            "padding": null,
            "grid_auto_rows": null,
            "grid_gap": null,
            "max_width": null,
            "order": null,
            "_view_module_version": "1.2.0",
            "grid_template_areas": null,
            "object_position": null,
            "object_fit": null,
            "grid_auto_columns": null,
            "margin": null,
            "display": null,
            "left": null
          }
        }
      }
    }
  },
  "cells": [
    {
      "cell_type": "code",
      "metadata": {
        "id": "_LfkDTnzbHu0"
      },
      "source": [
        "!pip install transformers"
      ],
      "execution_count": null,
      "outputs": []
    },
    {
      "cell_type": "code",
      "metadata": {
        "id": "FWadm7hSZhBV"
      },
      "source": [
        "#imports\n",
        "from transformers import XLMRobertaTokenizerFast, pipeline, XLMRobertaForSequenceClassification, XLMRobertaForTokenClassification  \n",
        "from spacy.pipeline import SentenceSegmenter\n",
        "from spacy.lang.en import English\n",
        "from spacy.pipeline import Sentencizer\n",
        "#from sacremoses import MosesTokenizer, MosesDetokenizer \n",
        "import torch  \n",
        "import itertools\n",
        "from string import punctuation\n",
        "import pandas as pd\n",
        "from lxml import etree\n",
        "import datetime\n",
        "from graphviz import Digraph\n"
      ],
      "execution_count": null,
      "outputs": []
    },
    {
      "cell_type": "markdown",
      "metadata": {
        "id": "utBSMNz1tScN"
      },
      "source": [
        "#Pipeline"
      ]
    },
    {
      "cell_type": "markdown",
      "metadata": {
        "id": "H3gh4G4yQrO3"
      },
      "source": [
        "**Functions**"
      ]
    },
    {
      "cell_type": "code",
      "metadata": {
        "id": "abnLMuzpRhCX"
      },
      "source": [
        "def extract_terms(pred, txt):\n",
        "  extracted_terms = []\n",
        "  # go over all predictions\n",
        "  for j in range(len(pred)):\n",
        "    # if right tag build term and add it to the set otherwise just continue\n",
        "    if pred[j]==\"LABEL_1\":\n",
        "      term=txt[j]\n",
        "      for k in range(j+1,len(pred)):\n",
        "        if pred[k]==\"LABEL_2\": term+=\" \"+txt[k]     #if continuation of term \n",
        "        else: break\n",
        "      #remove wrong punctuation and add it to the termlist if it is no duplicate\n",
        "      term = remove_end_punctuation(term)\n",
        "      if term not in extracted_terms:  \n",
        "        extracted_terms.append(term)\n",
        "  return extracted_terms"
      ],
      "execution_count": null,
      "outputs": []
    },
    {
      "cell_type": "code",
      "metadata": {
        "colab": {
          "base_uri": "https://localhost:8080/"
        },
        "id": "5_ZUu5kQphnt",
        "outputId": "917eb574-53e8-4b33-f3b8-21faf37bbb37"
      },
      "source": [
        "# remove last character if it is punctuation and there is not other punctuation in the word\n",
        "def remove_end_punctuation(word):\n",
        "  word_without_last = word[:-1]\n",
        "  #only remove end punctuation if there is not other punctuation inside the string\n",
        "  if not any(char in word_without_last for char in punctuation):\n",
        "    return word.translate(str.maketrans('', '', punctuation))     #all chars in punctuation are mapped to None and the translate function uses this translation table\n",
        "  else:\n",
        "    return word\n",
        "\n",
        "print(punctuation)"
      ],
      "execution_count": null,
      "outputs": [
        {
          "output_type": "stream",
          "text": [
            "!\"#$%&'()*+,-./:;<=>?@[\\]^_`{|}~\n"
          ],
          "name": "stdout"
        }
      ]
    },
    {
      "cell_type": "code",
      "metadata": {
        "id": "589hXmu-Kxat"
      },
      "source": [
        "def get_term_list(output):\n",
        "  word_list=[]\n",
        "  label_list=[]\n",
        "  #can i do this with some already existing decode/encode function?\n",
        "  for i in range(len(output)):\n",
        "    item=output[i]\n",
        "    #print(item[\"word\"])\n",
        "    #if start of word_\n",
        "    if item[\"word\"][0]==\"▁\":\n",
        "      word=item[\"word\"]\n",
        "      label=item[\"entity\"]\n",
        "      for j in range(i+1,len(output)):\n",
        "        item=output[j]\n",
        "        if item[\"word\"][0]!=\"▁\": \n",
        "          word+=item[\"word\"]\n",
        "        else:\n",
        "          break\n",
        "      #print(word,label)\n",
        "      word_list.append(word[1:len(word)])\n",
        "      label_list.append(label)\n",
        "  return label_list, word_list\n",
        "\n"
      ],
      "execution_count": null,
      "outputs": []
    },
    {
      "cell_type": "code",
      "metadata": {
        "id": "OL-TsbGpnoAw"
      },
      "source": [
        "#split in sentences and tokenize\n",
        "def preprocess(text):\n",
        "  #sentenize (from spacy)\n",
        "  sentencizer = Sentencizer()\n",
        "  nlp = English()\n",
        "  nlp.add_pipe(sentencizer)\n",
        "  doc = nlp(text)\n",
        "\n",
        "  #tokenize\n",
        "  sentence_list=[]\n",
        "  #mt = MosesTokenizer(lang='en')\n",
        "  for s in doc.sents:\n",
        "  #  tokenized_text = mt.tokenize(s, return_str=True)    \n",
        "    #sentence_list.append((tokenized_text.split(), s))     #append tuple of tokens and original sentence\n",
        "    sentence_list.append(str(s))\n",
        "  return sentence_list"
      ],
      "execution_count": null,
      "outputs": []
    },
    {
      "cell_type": "markdown",
      "metadata": {
        "id": "LE2q0YdPJ4Gg"
      },
      "source": [
        "**Load Models and Tokenizers**"
      ]
    },
    {
      "cell_type": "code",
      "metadata": {
        "id": "-J87mUFjJ4RQ",
        "colab": {
          "base_uri": "https://localhost:8080/",
          "height": 183,
          "referenced_widgets": [
            "b3d333ffcede41fa8271faae3f265560",
            "a83dba1d35b2425bbbf06b2b9d95a6b4",
            "ca5be59af2e94d23aa1e4f09291edd4f",
            "c882c56646a24f81ba2e5e206c742ccf",
            "fa120f5a7023402cb4628a55bf29b71d",
            "07f4c0a0d8554549b19476371b1bf9b6",
            "d23bff412bee40a0867f0be8b71d7c7f",
            "ea0909fa34c141cea1bc99f4e0af8f4c",
            "25eaf32fb66846d88496264f6e073eae",
            "2b8ced7e67084cbd865bb7e064b87b0e",
            "f2ff88b0edb64cb59f561aa271a464e3",
            "f41762de9aee40a2941821e9d2cbe5b2",
            "286f45d8d837403dbbc7c1ca5f62986a",
            "a53406ec316c40b1b0dc429b29a7df67",
            "801096255e3c4d6d887ec22bafd40ce0",
            "b6d9997a6e5c4d998fd491cec9bd0427"
          ]
        },
        "outputId": "ad837cbc-f30e-4f7a-ede8-77a07dc32507"
      },
      "source": [
        "#load model TE\n",
        "PATH = \"./TermExtraction/saved models/tvt_en_only\"    #en_only, fr, nl, all\n",
        "model_TermExtraction = XLMRobertaForTokenClassification.from_pretrained(PATH)\n",
        "print(\"Term Extraction Model loaded\")\n",
        "\n",
        "#load tokenizer TE\n",
        "tokenizer_TermExtraction = XLMRobertaTokenizerFast.from_pretrained(\"xlm-roberta-base\")\n",
        "print(\"Tokenizer loaded\")\n",
        "\n",
        "#load model RE\n",
        "PATH = \"./RelationExtraction/saved models/pipeline1803\"    \n",
        "model_RelationExtraction = XLMRobertaForSequenceClassification.from_pretrained(PATH)\n",
        "print(\"Relation Extraction Model loaded\")\n"
      ],
      "execution_count": null,
      "outputs": [
        {
          "output_type": "stream",
          "text": [
            "Term Extraction Model loaded\n"
          ],
          "name": "stdout"
        },
        {
          "output_type": "display_data",
          "data": {
            "application/vnd.jupyter.widget-view+json": {
              "model_id": "b3d333ffcede41fa8271faae3f265560",
              "version_minor": 0,
              "version_major": 2
            },
            "text/plain": [
              "HBox(children=(FloatProgress(value=0.0, description='Downloading', max=5069051.0, style=ProgressStyle(descript…"
            ]
          },
          "metadata": {
            "tags": []
          }
        },
        {
          "output_type": "stream",
          "text": [
            "\n"
          ],
          "name": "stdout"
        },
        {
          "output_type": "display_data",
          "data": {
            "application/vnd.jupyter.widget-view+json": {
              "model_id": "25eaf32fb66846d88496264f6e073eae",
              "version_minor": 0,
              "version_major": 2
            },
            "text/plain": [
              "HBox(children=(FloatProgress(value=0.0, description='Downloading', max=9096718.0, style=ProgressStyle(descript…"
            ]
          },
          "metadata": {
            "tags": []
          }
        },
        {
          "output_type": "stream",
          "text": [
            "\n",
            "Tokenizer loaded\n",
            "Relation Extraction Model loaded\n",
            "Hierachy Model loaded\n"
          ],
          "name": "stdout"
        }
      ]
    },
    {
      "cell_type": "code",
      "metadata": {
        "colab": {
          "base_uri": "https://localhost:8080/"
        },
        "id": "upoICrPYXMun",
        "outputId": "54ccf8c9-bb24-464b-b764-126239d07980"
      },
      "source": [
        "label_list=['SYNONYM', 'activityRelation (e1,e2)', 'activityRelation (e2,e1)',\n",
        " 'associativeRelation', 'causalRelation (e1,e2)', 'causalRelation (e2,e1)',\n",
        " 'genericRelation (e1,e2)', 'genericRelation (e2,e1)',\n",
        " 'instrumentalRelation (e1,e2)', 'instrumentalRelation (e2,e1)', 'none',\n",
        " 'originationRelation (e1,e2)', 'originationRelation (e2,e1)',\n",
        " 'partitiveRelation (e1,e2)', 'partitiveRelation (e2,e1)',\n",
        " 'spatialRelation (e1,e2)', 'spatialRelation (e2,e1)']\n",
        "\n",
        "wrong_labels=[\"LABEL_0\",\"LABEL_1\",\"LABEL_2\",\"LABEL_3\",\"LABEL_4\",\"LABEL_5\",\"LABEL_6\",\"LABEL_7\",\"LABEL_8\",\"LABEL_9\",\"LABEL_10\",\"LABEL_11\",\"LABEL_12\",\"LABEL_13\", \"LABEL_14\", \"LABEL_15\", \"LABEL_16\"]\n",
        "print(len(label_list),len(wrong_labels))"
      ],
      "execution_count": null,
      "outputs": [
        {
          "output_type": "stream",
          "text": [
            "25 25\n"
          ],
          "name": "stdout"
        }
      ]
    },
    {
      "cell_type": "code",
      "metadata": {
        "id": "aR6FAsk5gMO4"
      },
      "source": [
        "#pipelines\n",
        "\n",
        "pipeline_terms=pipeline(\"ner\", model=model_TermExtraction, tokenizer=tokenizer_TermExtraction)\n",
        "\n",
        "pipeline_relation=pipeline(\"sentiment-analysis\", model=model_RelationExtraction, tokenizer=tokenizer_TermExtraction)"
      ],
      "execution_count": null,
      "outputs": []
    },
    {
      "cell_type": "markdown",
      "metadata": {
        "id": "c0gdW4GlJPsN"
      },
      "source": [
        "**Read Text**"
      ]
    },
    {
      "cell_type": "code",
      "metadata": {
        "id": "2IPkd6ZtpZgO"
      },
      "source": [
        "text = \"' Vorhandener Wirkstoff\\n\\n„Prüfprogramm“ ist die Bezeichnung, die üblicherweise für das Arbeitsprogramm zur Prüfung in Biozidprodukten enthaltener alter Wirkstoffe verwendet wird. Das Programm wurde von der Europäischen Kommission unter der Biozidprodukte-Richtlinie (BPD) eingerichtet und wird unter der Verordnung über Biozidprodukte (BPR) fortgeführt.\\n\\nAlte Wirkstoffe sind jene Stoffe, die am 14. Mai 2000 als Wirkstoff eines Biozidprodukts auf dem Markt waren (für andere Zwecke als die wissenschaftliche oder produkt- und verfahrensorientierte Forschung und Entwicklung). Es wurden jene alten Wirkstoffe zur Überprüfung im Prüfprogramm akzeptiert, die als solche identifiziert wurden und für die eine Notifizierung gemäß Anhang II der Verordnung (EG) Nr. 1451/2007 der Kommission akzeptiert wurde.\\n\\nDie genauen Vorschriften für das Prüfprogramm wurden im Rahmen der neuen Verordnung zum Prüfprogramm (EU) Nr. 1062/2014, die die Verordnung (EG) Nr. 1451/2007 der Kommission aufhebt und ersetzt, an die Bestimmungen der BPR angepasst.\\n\\nDie in Artikel 89 der Verordnung (EU) Nr. 528/2012 festgelegten Übergangsmaßnahmen ermöglichen das Inverkehrbringen und die Verwendung von Biozidprodukten, die einen im Prüfprogramm (für eine bestimmte Produktart) enthaltenen Wirkstoff enthalten, vorbehaltlich der nationalen Vorschriften, bis drei Jahre nach ihrem Genehmigungsdatum (im Falle einer Nichtgenehmigung können kürzere Zeiträume gelten).\\n\\nIn Anhang II Teil 1 der Verordnung zum Prüfprogramm sind die Wirkstoffe aufgeführt, die derzeit geprüft werden.\\n\\nDarüber hinaus passt die Verordnung zum Prüfprogramm die Verfahren zur Bewertung von Dossiers an die Verfahren an, die in der BPR für neue Wirkstoffe oder in Verordnung (EU) Nr. 88/2014 zur Änderung von Anhang I beschrieben sind.\\n\\nDes Weiteren sieht die Verordnung zum Prüfprogramm eine feste Rolle für die ECHA vor und legt Verfahren zum Beteiligen oder Ersetzen von Teilnehmern im Prüfprogramm in gegenseitigem Einvernehmen, zum Ausscheiden als Teilnehmer sowie zur Übernahme der Rolle eines Teilnehmers in bestimmten Situationen fest und führt die Möglichkeit ein, unter bestimmten Bedingungen Stoff/Produktart-Kombinationen in das Prüfprogramm aufzunehmen.\""
      ],
      "execution_count": null,
      "outputs": []
    },
    {
      "cell_type": "markdown",
      "metadata": {
        "id": "HX7RqILgrp4C"
      },
      "source": [
        "#Single Example of the Whole Pipeline"
      ]
    },
    {
      "cell_type": "markdown",
      "metadata": {
        "id": "uiBgEXCfJP-0"
      },
      "source": [
        "**Split corpus into sentences**"
      ]
    },
    {
      "cell_type": "code",
      "metadata": {
        "id": "16IMCujcJQFg",
        "colab": {
          "base_uri": "https://localhost:8080/",
          "height": 54
        },
        "outputId": "94e9933c-fa6c-4d40-8c20-334ab6d1af18"
      },
      "source": [
        "sentences=preprocess(text)\n",
        "sentences[0]"
      ],
      "execution_count": null,
      "outputs": [
        {
          "output_type": "execute_result",
          "data": {
            "application/vnd.google.colaboratory.intrinsic+json": {
              "type": "string"
            },
            "text/plain": [
              "' Vorhandener Wirkstoff\\n\\n„Prüfprogramm“ ist die Bezeichnung, die üblicherweise für das Arbeitsprogramm zur Prüfung in Biozidprodukten enthaltener alter Wirkstoffe verwendet wird.'"
            ]
          },
          "metadata": {
            "tags": []
          },
          "execution_count": 27
        }
      ]
    },
    {
      "cell_type": "markdown",
      "metadata": {
        "id": "Nm8GNgQUJQMV"
      },
      "source": [
        "**Extract Terms from corpus**"
      ]
    },
    {
      "cell_type": "code",
      "metadata": {
        "id": "HC5cUP7mJQRj"
      },
      "source": [
        "#OR USE OWN TOKENIZER + FAKE LABELS TO GET OUTPUT..... (otherwise problems with punctuation)\n",
        "\n",
        "#pipeline with list of sentences as input ?????\n",
        "terms_per_sentence=[]\n",
        "for s in sentences:\n",
        "  #pipeline output\n",
        "  term_output=pipeline_terms(s)\n",
        "  #reconstruct full words from pipeline and asign labels based on start word \n",
        "  labels, words=get_term_list(term_output)\n",
        "  terms_per_sentence.append(extract_terms(labels,words))\n",
        "  \n"
      ],
      "execution_count": null,
      "outputs": []
    },
    {
      "cell_type": "code",
      "metadata": {
        "colab": {
          "base_uri": "https://localhost:8080/"
        },
        "id": "2228Ut560n4C",
        "outputId": "c6f6a7c2-ffdd-4f53-b8cd-efc35657ab7e"
      },
      "source": [
        "terms_per_sentence"
      ],
      "execution_count": null,
      "outputs": [
        {
          "output_type": "execute_result",
          "data": {
            "text/plain": [
              "[['active substance', 'biocidal active substances', 'biocidal products'],\n",
              " ['European Commission',\n",
              "  'Biocidal Products Directive',\n",
              "  'Biocidal Products Regulation'],\n",
              " ['biocidal product'],\n",
              " ['Review Programme', 'Commission Regulation'],\n",
              " ['rules',\n",
              "  'Review Programme',\n",
              "  'BPR',\n",
              "  'Review Programme Regulation',\n",
              "  'Commission Regulation'],\n",
              " ['Regulation', 'biocidal products', 'Review', 'rules'],\n",
              " ['Review'],\n",
              " ['Review Programme',\n",
              "  'Regulation',\n",
              "  'dossier',\n",
              "  'BPR',\n",
              "  'active substances',\n",
              "  'Review Programme Regulation',\n",
              "  'ECHA',\n",
              "  'substance/PT'],\n",
              " []]"
            ]
          },
          "metadata": {
            "tags": []
          },
          "execution_count": 62
        }
      ]
    },
    {
      "cell_type": "code",
      "metadata": {
        "id": "aqr6bbVYRgXf"
      },
      "source": [
        "# flat set of all terms\n",
        "term_list=[]\n",
        "for term_l in terms_per_sentence:\n",
        "  for term in term_l:\n",
        "    if term not in term_list:\n",
        "      term_list.append(term)"
      ],
      "execution_count": null,
      "outputs": []
    },
    {
      "cell_type": "code",
      "metadata": {
        "colab": {
          "base_uri": "https://localhost:8080/"
        },
        "id": "gMtRVW5BtgF7",
        "outputId": "df0bd28a-a72a-4130-e4a2-8e986f57a9ae"
      },
      "source": [
        "term_list"
      ],
      "execution_count": null,
      "outputs": [
        {
          "output_type": "execute_result",
          "data": {
            "text/plain": [
              "['active substance',\n",
              " 'biocidal active substances',\n",
              " 'biocidal products',\n",
              " 'European Commission',\n",
              " 'Biocidal Products Directive',\n",
              " 'Biocidal Products Regulation',\n",
              " 'biocidal product',\n",
              " 'Review Programme',\n",
              " 'Commission Regulation',\n",
              " 'rules',\n",
              " 'BPR',\n",
              " 'Review Programme Regulation',\n",
              " 'Regulation',\n",
              " 'Review',\n",
              " 'dossier',\n",
              " 'active substances',\n",
              " 'ECHA',\n",
              " 'substance/PT']"
            ]
          },
          "metadata": {
            "tags": []
          },
          "execution_count": 64
        }
      ]
    },
    {
      "cell_type": "code",
      "metadata": {
        "id": "FTTDgSMSVodw"
      },
      "source": [
        "# create a list of concept dictionaries + term2id mapping\n",
        "\n",
        "term_to_id = dict()\n",
        "\n",
        "concept_list=[]\n",
        "for i, c in enumerate(term_list):\n",
        "  concept_list.append(\n",
        "      {\"id\":i, \"terms\":[c], \"relations\":[]}\n",
        "  )\n",
        "  # map terms to id \n",
        "  for term in [c]: \n",
        "    term_to_id[term]=i\n"
      ],
      "execution_count": null,
      "outputs": []
    },
    {
      "cell_type": "code",
      "metadata": {
        "colab": {
          "base_uri": "https://localhost:8080/"
        },
        "id": "b1Nr1MHxnrGY",
        "outputId": "57d3d5ca-6bcf-4a52-8cc4-afe7ae119a7d"
      },
      "source": [
        "concept_list"
      ],
      "execution_count": null,
      "outputs": [
        {
          "output_type": "execute_result",
          "data": {
            "text/plain": [
              "[{'id': 0, 'relations': [], 'terms': ['active substance']},\n",
              " {'id': 1, 'relations': [], 'terms': ['biocidal active substances']},\n",
              " {'id': 2, 'relations': [], 'terms': ['biocidal products.']},\n",
              " {'id': 3, 'relations': [], 'terms': ['European Commission']},\n",
              " {'id': 4, 'relations': [], 'terms': ['Biocidal Products Directive']},\n",
              " {'id': 5, 'relations': [], 'terms': ['Biocidal Products Regulation']},\n",
              " {'id': 6, 'relations': [], 'terms': ['biocidal product']},\n",
              " {'id': 7, 'relations': [], 'terms': ['Review Programme']},\n",
              " {'id': 8, 'relations': [], 'terms': ['Commission Regulation']},\n",
              " {'id': 9, 'relations': [], 'terms': ['rules']},\n",
              " {'id': 10, 'relations': [], 'terms': ['BPR']},\n",
              " {'id': 11, 'relations': [], 'terms': ['Review Programme Regulation']},\n",
              " {'id': 12, 'relations': [], 'terms': ['Regulation']},\n",
              " {'id': 13, 'relations': [], 'terms': ['biocidal products']},\n",
              " {'id': 14, 'relations': [], 'terms': ['Review']},\n",
              " {'id': 15, 'relations': [], 'terms': ['rules,']},\n",
              " {'id': 16, 'relations': [], 'terms': ['dossier']},\n",
              " {'id': 17, 'relations': [], 'terms': ['active substances']},\n",
              " {'id': 18, 'relations': [], 'terms': ['ECHA']},\n",
              " {'id': 19, 'relations': [], 'terms': ['substance/PT']},\n",
              " {'id': 20, 'relations': [], 'terms': ['Review Programme,']}]"
            ]
          },
          "metadata": {
            "tags": []
          },
          "execution_count": 21
        }
      ]
    },
    {
      "cell_type": "markdown",
      "metadata": {
        "id": "jyebFX2YJoOB"
      },
      "source": [
        "**Extract relations per sentence**"
      ]
    },
    {
      "cell_type": "code",
      "metadata": {
        "id": "mO8mTDcQ2bqe",
        "colab": {
          "base_uri": "https://localhost:8080/"
        },
        "outputId": "de146a31-1a5a-41e9-d6d2-7d0e1a84e1e4"
      },
      "source": [
        "# take terms and save them in a dictionary that we later write to tbx\n",
        "for i in range(len(terms_per_sentence)):\n",
        "  #create all termpairs for the sentence \n",
        "  terms=terms_per_sentence[i]\n",
        "  sentence=sentences[i]\n",
        "  term_pairs=list(itertools.combinations(terms, 2))\n",
        "  print(\"\\n\\nSentence:\", sentence)\n",
        "  print(\"Relations:\")\n",
        "  #extract relation for each possible pair \n",
        "  for pair in term_pairs:\n",
        "    input=pair[0]+\". \"+pair[1]+\". \"+sentence\n",
        "    relation=pipeline_relation(input)\n",
        "    #print((relation))\n",
        "    true_rel=label_list[wrong_labels.index(relation[0][\"label\"])]\n",
        "\n",
        "    #add true_rel to concept dict\n",
        "    if \"(e1,e2)\" in true_rel:\n",
        "      concept_list[term_to_id[pair[0]]][\"relations\"].append([true_rel[:-8],pair[1],round(relation[0][\"score\"],3)])\n",
        "    elif \"(e2,e1)\" in true_rel:\n",
        "      concept_list[term_to_id[pair[1]]][\"relations\"].append([true_rel[:-8],pair[0]])\n",
        "    elif  \"associativeRelation\" == true_rel:\n",
        "      concept_list[term_to_id[pair[0]]][\"relations\"].append([true_rel,pair[1]])\n",
        "    \n",
        "\n",
        "    print(\"{:30s}{:30s}{:30s}{:3f}\".format(pair[0],pair[1], true_rel, round(relation[0][\"score\"],3)))   #pair[0],\"----\", pair[1], true_rel, relation[0][\"score\"])"
      ],
      "execution_count": null,
      "outputs": [
        {
          "output_type": "stream",
          "text": [
            "\n",
            "\n",
            "Sentence:  Existing active substance\n",
            "\n",
            "The Review Programme is the name commonly used for the work programme for the examination of existing biocidal active substances contained in biocidal products.\n",
            "Relations:\n",
            "active substance              biocidal active substances    partitiveRelation (e1,e2)     0.966000\n",
            "active substance              biocidal products.            partitiveRelation (e1,e2)     0.875000\n",
            "biocidal active substances    biocidal products.            partitiveRelation (e1,e2)     0.919000\n",
            "\n",
            "\n",
            "Sentence: The programme was set up by the European Commission under the Biocidal Products Directive (BPD) and continues under the Biocidal Products Regulation (BPR).\n",
            "Relations:\n",
            "European Commission           Biocidal Products Directive   none                          0.559000\n",
            "European Commission           Biocidal Products Regulation  none                          0.779000\n",
            "Biocidal Products Directive   Biocidal Products Regulation  none                          0.861000\n",
            "\n",
            "\n",
            "Sentence: \n",
            "\n",
            "Existing active substances are those substances which were on the market on 14 May 2000 as an active substance of a biocidal product (for purposes other than scientific or product and process-orientated research and development).\n",
            "Relations:\n",
            "\n",
            "\n",
            "Sentence: The existing active substances which were accepted to be examined in the Review Programme were those which were identified as such and for which a notification was accepted, as set out in Annex II to Commission Regulation (EC) No 1451/2007.\n",
            "Relations:\n",
            "Review Programme              Commission Regulation         none                          0.880000\n",
            "\n",
            "\n",
            "Sentence: \n",
            "\n",
            "The detailed rules for the Review Programme have been adapted to the provisions of the BPR in the new Review Programme Regulation (EU) No 1062/2014, which repeals and replaces Commission Regulation (EC) No 1451/2007.\n",
            "Relations:\n",
            "rules                         Review Programme              partitiveRelation (e1,e2)     0.702000\n",
            "rules                         BPR                           partitiveRelation (e1,e2)     0.699000\n",
            "rules                         Review Programme Regulation   associativeRelation           0.904000\n",
            "rules                         Commission Regulation         none                          0.588000\n",
            "Review Programme              BPR                           partitiveRelation (e1,e2)     0.506000\n",
            "Review Programme              Review Programme Regulation   none                          0.653000\n",
            "Review Programme              Commission Regulation         none                          0.552000\n",
            "BPR                           Review Programme Regulation   partitiveRelation (e1,e2)     0.430000\n",
            "BPR                           Commission Regulation         none                          0.435000\n",
            "Review Programme Regulation   Commission Regulation         none                          0.659000\n",
            "\n",
            "\n",
            "Sentence: \n",
            "\n",
            "The transitional provisions laid down in Article 89 of Regulation (EU) No 528/2012 allow biocidal products containing an active substance included in the Review Programme (for a given product-type) to be made available on the market and used, subject to national rules, until three years after the date of their approval (shorter timeframes apply in case of non-approval).\n",
            "Relations:\n",
            "Regulation                    biocidal products             none                          0.700000\n",
            "Regulation                    Review                        none                          0.875000\n",
            "Regulation                    rules,                        associativeRelation           0.854000\n",
            "biocidal products             Review                        none                          0.900000\n",
            "biocidal products             rules,                        associativeRelation           0.605000\n",
            "Review                        rules,                        none                          0.768000\n",
            "\n",
            "\n",
            "Sentence: \n",
            "\n",
            "In Annex II part 1 of the Review Programme Regulation, the active substances which are under evaluation are listed.\n",
            "Relations:\n",
            "\n",
            "\n",
            "Sentence: \n",
            "\n",
            "In addition, the Review Programme Regulation adapts the processes for the evaluation of a dossier to align them to those described in the BPR for new active substances or in Regulation (EU) No 88/2014 for the amendment of Annex I.\n",
            "\n",
            "Furthermore, the Review Programme Regulation provides a defined role for ECHA and sets out procedures on how to join or replace a participant in the Review Programme by mutual agreement, how to withdraw as a participant, how to take over the role of participant in certain situations and introduces the possibility to add substance/PT combinations to the Review Programme, under certain conditions.\n",
            "Relations:\n",
            "Review Programme              Regulation                    none                          0.439000\n",
            "Review Programme              dossier                       none                          0.832000\n",
            "Review Programme              BPR                           none                          0.734000\n",
            "Review Programme              active substances             none                          0.805000\n",
            "Review Programme              Review Programme Regulation   none                          0.779000\n",
            "Review Programme              ECHA                          none                          0.773000\n",
            "Review Programme              substance/PT                  none                          0.855000\n",
            "Review Programme              Review Programme,             genericRelation (e1,e2)       0.751000\n",
            "Regulation                    dossier                       none                          0.747000\n",
            "Regulation                    BPR                           none                          0.849000\n",
            "Regulation                    active substances             none                          0.457000\n",
            "Regulation                    Review Programme Regulation   none                          0.868000\n",
            "Regulation                    ECHA                          none                          0.781000\n",
            "Regulation                    substance/PT                  none                          0.834000\n",
            "Regulation                    Review Programme,             none                          0.819000\n",
            "dossier                       BPR                           none                          0.670000\n",
            "dossier                       active substances             none                          0.707000\n",
            "dossier                       Review Programme Regulation   none                          0.905000\n",
            "dossier                       ECHA                          none                          0.799000\n",
            "dossier                       substance/PT                  partitiveRelation (e2,e1)     0.439000\n",
            "dossier                       Review Programme,             none                          0.762000\n",
            "BPR                           active substances             associativeRelation           0.944000\n",
            "BPR                           Review Programme Regulation   none                          0.744000\n",
            "BPR                           ECHA                          none                          0.796000\n",
            "BPR                           substance/PT                  none                          0.668000\n",
            "BPR                           Review Programme,             genericRelation (e1,e2)       0.461000\n",
            "active substances             Review Programme Regulation   none                          0.908000\n",
            "active substances             ECHA                          none                          0.860000\n",
            "active substances             substance/PT                  partitiveRelation (e2,e1)     0.641000\n",
            "active substances             Review Programme,             none                          0.786000\n",
            "Review Programme Regulation   ECHA                          none                          0.836000\n",
            "Review Programme Regulation   substance/PT                  none                          0.890000\n",
            "Review Programme Regulation   Review Programme,             none                          0.293000\n",
            "ECHA                          substance/PT                  none                          0.488000\n",
            "ECHA                          Review Programme,             none                          0.704000\n",
            "substance/PT                  Review Programme,             none                          0.767000\n",
            "\n",
            "\n",
            "Sentence: \n",
            "\n",
            "The Review Programme is foreseen to be completed by 2024.\n",
            "Relations:\n"
          ],
          "name": "stdout"
        }
      ]
    },
    {
      "cell_type": "markdown",
      "metadata": {
        "id": "M8B85yx4lSyo"
      },
      "source": [
        "**Clean Concept List**\n"
      ]
    },
    {
      "cell_type": "code",
      "metadata": {
        "id": "_-yT_XBbdRBM"
      },
      "source": [
        "# merge concept entries with synonym relations \n",
        "\n",
        "# go over all concepts\n",
        "for i, concept in enumerate(concept_list):\n",
        "  print(\"checking\", concept[\"id\"], concept[\"terms\"])\n",
        "  print(concept[\"relations\"])\n",
        "  #go over all relations\n",
        "  for k, rel in enumerate(concept[\"relations\"]): \n",
        "    print(\"         \", rel)\n",
        "    # if its a synonym relation\n",
        "    if rel[0]==\"SYNONYM\":\n",
        "      e2_term=rel[1] #this is a string \n",
        "      #find the concept e2 in the list to be able to remove it \n",
        "      for j in range(len(concept_list)):\n",
        "        if e2_term in concept_list[j][\"terms\"]: break\n",
        "      #remove found concept if its not the current concept\n",
        "      e2_concept=concept_list[j]\n",
        "      if e2_concept!=concept:\n",
        "        del concept_list[j]\n",
        "        print(\"   merge\", concept[\"id\"], e2_concept[\"id\"])\n",
        "        #merge found concept\n",
        "        for term in e2_concept[\"terms\"]:\n",
        "          concept[\"terms\"].append(term)\n",
        "        for rel in e2_concept[\"relations\"]:\n",
        "          concept[\"relations\"].append(rel)\n",
        "        #print updated relations\n",
        "        print(concept[\"relations\"])\n",
        "      #no need for updating the ids since it works on string basis anyways \n"
      ],
      "execution_count": null,
      "outputs": []
    },
    {
      "cell_type": "code",
      "metadata": {
        "id": "FJ8OTMeuIZEu"
      },
      "source": [
        "# correct term_to_id (which is broken due to synonymy) and update ids (to have no missing values after merge)\n",
        "\n",
        "#update term_to_id\n",
        "for i, concept in enumerate(concept_list):\n",
        "  concept[\"id\"]=\"c\"+str(i+1)\n",
        "  for term in concept[\"terms\"]:\n",
        "    term_to_id[term]=concept[\"id\"]\n",
        "\n",
        "# update relations to contain ids instead of the string-terms using term_to_id\n",
        "for concept in concept_list:\n",
        "  for rel in concept[\"relations\"]:\n",
        "    #print(rel[1], term_to_id[rel[1]])\n",
        "    rel[1]=term_to_id[rel[1]]\n"
      ],
      "execution_count": null,
      "outputs": []
    },
    {
      "cell_type": "code",
      "metadata": {
        "id": "d5zKIdYXSfUv"
      },
      "source": [
        "# delete hypernym + all other relations which became self referential after the merge + delete duplicates\n",
        "\n",
        "for concept in concept_list:\n",
        "  legal_relations=[]\n",
        "  for rel in concept[\"relations\"]:\n",
        "    #only keep relations which are not synonym and not self referential\n",
        "    if rel[1]!=concept[\"id\"] and rel[0]!=\"SYNONYM\":\n",
        "      #do not keep duplicates\n",
        "      duplicate=False\n",
        "      for legal_rel in legal_relations:\n",
        "        #if duplicate, only update probability\n",
        "        if rel[0]==legal_rel[0] and rel[1]==legal_rel[1]:\n",
        "          legal_rel[2]=max(legal_rel[2], rel[2])\n",
        "          duplicate=True\n",
        "      if not duplicate:\n",
        "        legal_relations.append(rel)\n",
        "    else:\n",
        "      print(rel)\n",
        "  concept[\"relations\"] = legal_relations"
      ],
      "execution_count": null,
      "outputs": []
    },
    {
      "cell_type": "markdown",
      "metadata": {
        "id": "nZChj0zoRBkg"
      },
      "source": [
        "**Write to TBX**"
      ]
    },
    {
      "cell_type": "code",
      "metadata": {
        "id": "_deNb4lLRFY_"
      },
      "source": [
        "# function to write header\n",
        "def write_header(root):\n",
        "  header = etree.SubElement(root, \"tbxHeader\")\n",
        "  fileDesc = etree.SubElement(header, \"fileDesc\")\n",
        "  sourceDesc = etree.SubElement(fileDesc, \"sourceDesc\")\n",
        "  etree.SubElement(sourceDesc, \"p\").text = \"TBX file automatically generated by Text2TCS (https://text2tcs.univie.ac.at/)\"\n",
        "  encodingDec = etree.SubElement(header, \"encodingDesc\") \n",
        "  etree.SubElement(encodingDec, \"p\", {\"type\": \"XCSURI\"}).text=\"TBXXCSV02.xcs\""
      ],
      "execution_count": null,
      "outputs": []
    },
    {
      "cell_type": "code",
      "metadata": {
        "id": "O7vm2SJ1Ucc7"
      },
      "source": [
        "# function for writing a single concept \n",
        "# concept = list of synonymous terms \n",
        "def write_text(root, concept_list):\n",
        "  date_string = datetime.datetime.now().strftime(\"%y-%m-%d_%Hh-%Mm\")\n",
        "  text = etree.SubElement(root, \"text\")\n",
        "  body = etree.SubElement(text,\"body\") \n",
        "  for concept in concept_list:\n",
        "    conceptEntry = etree.SubElement(body, \"conceptEntry\", {\"id\":concept[\"id\"]})\n",
        "    transacGrp = etree.SubElement(conceptEntry, \"transacGrp\")\n",
        "    transac = etree.SubElement(transacGrp, \"transac\", {\"type\": \"transactionType\"}).text=\"origination\"\n",
        "    transacNote = etree.SubElement(transacGrp, \"transacNote\", {\"type\": \"responsibility\"}).text=\"Text2TCS\"\n",
        "    date = etree.SubElement(transacGrp, \"date\").text = date_string\n",
        "    #write all terms\n",
        "    langSec = etree.SubElement(conceptEntry, \"langSec\", {\"{http://www.w3.org/XML/1998/namespace}lang\":language})\n",
        "    for i, term in enumerate(concept[\"terms\"]):\n",
        "      term_id=concept[\"id\"]+\"-\"+language+\"-t\"+str(i)\n",
        "      termSec = etree.SubElement(langSec, \"termSec\", {\"id\":term_id})\n",
        "      etree.SubElement(termSec, \"term\").text = term\n",
        "    #write all relations\n",
        "    for rel in concept[\"relations\"]:\n",
        "      descripGrp = etree.SubElement(conceptEntry,\"descripGrp\")\n",
        "      etree.SubElement(descripGrp, \"descrip\", {\"type\":rel[0]}).text = rel[1]\n",
        "\n",
        "  \n"
      ],
      "execution_count": null,
      "outputs": []
    },
    {
      "cell_type": "code",
      "metadata": {
        "id": "soOiI8sSL7Mt"
      },
      "source": [
        "#TODO IMPLEMENT AUTOMATIC LANGUAGE DETECTION // User Input \n",
        "language=\"en\""
      ],
      "execution_count": null,
      "outputs": []
    },
    {
      "cell_type": "code",
      "metadata": {
        "id": "wVssli2KF66a"
      },
      "source": [
        "root = etree.Element(\"tbx\", {\"type\":\"TBX-Core\", \"style\":\"dca\", \"{http://www.w3.org/XML/1998/namespace}lang\":language, \"xmlns\":\"urn:iso:std:iso:30042:ed-2\"})\n",
        "#add head xml elements\n",
        "pi2 = etree.ProcessingInstruction('xml-model', 'href=\"https://raw.githubusercontent.com/LTAC-Global/TBX-Core_dialect/master/Schemas/TBX-Core.sch\" type=\"application/xml\" schematypens=\"http://purl.oclc.org/dsdl/schematron\"') \n",
        "pi1 = etree.ProcessingInstruction('xml-model', 'href=\"https://raw.githubusercontent.com/LTAC-Global/TBX-Core_dialect/master/Schemas/TBXcoreStructV03_TBX-Core_integrated.rng\" type=\"application/xml\" schematypens=\"http://relaxng.org/ns/structure/1.0\"') \n",
        "tree = etree.ElementTree(root)\n",
        "tree.getroot().addprevious(pi1)\n",
        "tree.getroot().addprevious(pi2)\n",
        "\n",
        "#write content\n",
        "write_header(root)\n",
        "write_text(root, concept_list)"
      ],
      "execution_count": null,
      "outputs": []
    },
    {
      "cell_type": "code",
      "metadata": {
        "colab": {
          "base_uri": "https://localhost:8080/"
        },
        "id": "X1He6CGNHDr7",
        "outputId": "798722ed-f5a3-418b-907e-56cda52001b2"
      },
      "source": [
        "print(etree.tostring(root, encoding='utf-8', xml_declaration=True, pretty_print=True))"
      ],
      "execution_count": null,
      "outputs": [
        {
          "output_type": "stream",
          "text": [
            "b'<?xml version=\\'1.0\\' encoding=\\'utf-8\\'?>\\n<tbx style=\"dca\" type=\"TBX-Core\" xmlns=\"urn:iso:std:iso:30042:ed-2\" xml:lang=\"en\">\\n  <tbxHeader>\\n    <fileDesc>\\n      <sourceDesc>\\n        <p>TBX file automatically generated by Text2TCS (https://text2tcs.univie.ac.at/)</p>\\n      </sourceDesc>\\n    </fileDesc>\\n    <encodingDesc>\\n      <p type=\"XCSURI\">TBXXCSV02.xcs</p>\\n    </encodingDesc>\\n  </tbxHeader>\\n  <text>\\n    <body>\\n      <conceptEntry id=\"c1\">\\n        <transacGrp>\\n          <transac type=\"transactionType\">origination</transac>\\n          <transacNote type=\"responsibility\">Text2TCS</transacNote>\\n          <date>21-03-08_21h-03m</date>\\n        </transacGrp>\\n        <langSec xml:lang=\"en\">\\n          <termSec id=\"c1-en-t0\">\\n            <term>active substance</term>\\n          </termSec>\\n          <termSec id=\"c1-en-t1\">\\n            <term>biocidal active substances</term>\\n          </termSec>\\n          <termSec id=\"c1-en-t2\">\\n            <term>biocidal products.</term>\\n          </termSec>\\n          <termSec id=\"c1-en-t3\">\\n            <term>biocidal product</term>\\n          </termSec>\\n          <termSec id=\"c1-en-t4\">\\n            <term>biocidal products</term>\\n          </termSec>\\n          <termSec id=\"c1-en-t5\">\\n            <term>active substances</term>\\n          </termSec>\\n          <termSec id=\"c1-en-t6\">\\n            <term>BPR</term>\\n          </termSec>\\n          <termSec id=\"c1-en-t7\">\\n            <term>Biocidal Products Directive</term>\\n          </termSec>\\n          <termSec id=\"c1-en-t8\">\\n            <term>Biocidal Products Regulation</term>\\n          </termSec>\\n        </langSec>\\n        <descripGrp>\\n          <descrip type=\"genericRelation\">c7</descrip>\\n        </descripGrp>\\n        <descripGrp>\\n          <descrip type=\"genericRelation\">c2</descrip>\\n        </descripGrp>\\n        <descripGrp>\\n          <descrip type=\"genericRelation\">c5</descrip>\\n        </descripGrp>\\n        <descripGrp>\\n          <descrip type=\"genericRelation\">c4</descrip>\\n        </descripGrp>\\n        <descripGrp>\\n          <descrip type=\"genericRelation\">c6</descrip>\\n        </descripGrp>\\n        <descripGrp>\\n          <descrip type=\"associativeRelation\">c5</descrip>\\n        </descripGrp>\\n        <descripGrp>\\n          <descrip type=\"associativeRelation\">c7</descrip>\\n        </descripGrp>\\n        <descripGrp>\\n          <descrip type=\"genericRelation\">c3</descrip>\\n        </descripGrp>\\n      </conceptEntry>\\n      <conceptEntry id=\"c2\">\\n        <transacGrp>\\n          <transac type=\"transactionType\">origination</transac>\\n          <transacNote type=\"responsibility\">Text2TCS</transacNote>\\n          <date>21-03-08_21h-03m</date>\\n        </transacGrp>\\n        <langSec xml:lang=\"en\">\\n          <termSec id=\"c2-en-t0\">\\n            <term>European Commission</term>\\n          </termSec>\\n        </langSec>\\n        <descripGrp>\\n          <descrip type=\"genericRelation\">c3</descrip>\\n        </descripGrp>\\n        <descripGrp>\\n          <descrip type=\"genericRelation\">c5</descrip>\\n        </descripGrp>\\n      </conceptEntry>\\n      <conceptEntry id=\"c3\">\\n        <transacGrp>\\n          <transac type=\"transactionType\">origination</transac>\\n          <transacNote type=\"responsibility\">Text2TCS</transacNote>\\n          <date>21-03-08_21h-03m</date>\\n        </transacGrp>\\n        <langSec xml:lang=\"en\">\\n          <termSec id=\"c3-en-t0\">\\n            <term>Commission Regulation</term>\\n          </termSec>\\n        </langSec>\\n        <descripGrp>\\n          <descrip type=\"genericRelation\">c5</descrip>\\n        </descripGrp>\\n        <descripGrp>\\n          <descrip type=\"genericRelation\">c4</descrip>\\n        </descripGrp>\\n      </conceptEntry>\\n      <conceptEntry id=\"c4\">\\n        <transacGrp>\\n          <transac type=\"transactionType\">origination</transac>\\n          <transacNote type=\"responsibility\">Text2TCS</transacNote>\\n          <date>21-03-08_21h-03m</date>\\n        </transacGrp>\\n        <langSec xml:lang=\"en\">\\n          <termSec id=\"c4-en-t0\">\\n            <term>Review</term>\\n          </termSec>\\n        </langSec>\\n        <descripGrp>\\n          <descrip type=\"genericRelation\">c5</descrip>\\n        </descripGrp>\\n      </conceptEntry>\\n      <conceptEntry id=\"c5\">\\n        <transacGrp>\\n          <transac type=\"transactionType\">origination</transac>\\n          <transacNote type=\"responsibility\">Text2TCS</transacNote>\\n          <date>21-03-08_21h-03m</date>\\n        </transacGrp>\\n        <langSec xml:lang=\"en\">\\n          <termSec id=\"c5-en-t0\">\\n            <term>dossier</term>\\n          </termSec>\\n          <termSec id=\"c5-en-t1\">\\n            <term>rules</term>\\n          </termSec>\\n          <termSec id=\"c5-en-t2\">\\n            <term>Regulation</term>\\n          </termSec>\\n          <termSec id=\"c5-en-t3\">\\n            <term>rules,</term>\\n          </termSec>\\n          <termSec id=\"c5-en-t4\">\\n            <term>Review Programme</term>\\n          </termSec>\\n          <termSec id=\"c5-en-t5\">\\n            <term>Review Programme Regulation</term>\\n          </termSec>\\n          <termSec id=\"c5-en-t6\">\\n            <term>Review Programme,</term>\\n          </termSec>\\n        </langSec>\\n        <descripGrp>\\n          <descrip type=\"genericRelation\">c4</descrip>\\n        </descripGrp>\\n        <descripGrp>\\n          <descrip type=\"associativeRelation\">c1</descrip>\\n        </descripGrp>\\n      </conceptEntry>\\n      <conceptEntry id=\"c6\">\\n        <transacGrp>\\n          <transac type=\"transactionType\">origination</transac>\\n          <transacNote type=\"responsibility\">Text2TCS</transacNote>\\n          <date>21-03-08_21h-03m</date>\\n        </transacGrp>\\n        <langSec xml:lang=\"en\">\\n          <termSec id=\"c6-en-t0\">\\n            <term>ECHA</term>\\n          </termSec>\\n        </langSec>\\n      </conceptEntry>\\n      <conceptEntry id=\"c7\">\\n        <transacGrp>\\n          <transac type=\"transactionType\">origination</transac>\\n          <transacNote type=\"responsibility\">Text2TCS</transacNote>\\n          <date>21-03-08_21h-03m</date>\\n        </transacGrp>\\n        <langSec xml:lang=\"en\">\\n          <termSec id=\"c7-en-t0\">\\n            <term>substance/PT</term>\\n          </termSec>\\n        </langSec>\\n      </conceptEntry>\\n    </body>\\n  </text>\\n</tbx>\\n'\n"
          ],
          "name": "stdout"
        }
      ]
    },
    {
      "cell_type": "code",
      "metadata": {
        "id": "maOFOILkHnP7"
      },
      "source": [
        "et=etree.ElementTree(root)\n",
        "et.write(\"output.tbx\", encoding='utf-8', xml_declaration=True, pretty_print=True)"
      ],
      "execution_count": null,
      "outputs": []
    },
    {
      "cell_type": "markdown",
      "metadata": {
        "id": "Wb52PWHFd9Gg"
      },
      "source": [
        "**Graph Vizualization**"
      ]
    },
    {
      "cell_type": "code",
      "metadata": {
        "id": "sIGLRSWZes7A"
      },
      "source": [
        "def make_graph(concept_list, filename):\n",
        "  g = Digraph(\"G\", filename=filename)\n",
        "  #g.attr(size=\"1000,5\")\n",
        "  #create nodes\n",
        "  for concept in concept_list:\n",
        "    nodename=concept[\"id\"]+\"\\n\"+str(concept[\"terms\"])\n",
        "    g.node(nodename, shape=\"box\")\n",
        "  #create edges\n",
        "  for concept in concept_list:\n",
        "    node1=concept[\"id\"]+\"\\n\"+str(concept[\"terms\"])\n",
        "    for rel in concept[\"relations\"]:\n",
        "      for concepte2 in concept_list:\n",
        "        if concepte2[\"id\"]==rel[1]:\n",
        "          node2=concepte2[\"id\"]+\"\\n\"+str(concepte2[\"terms\"])\n",
        "          if rel[0]==\"associativeRelation\":\n",
        "            g.edge(node1, node2, label=str(rel[0]), dir=\"none\")\n",
        "          else:\n",
        "            g.edge(node1, node2, label=str(rel[0]))\n",
        "  return g"
      ],
      "execution_count": null,
      "outputs": []
    },
    {
      "cell_type": "code",
      "metadata": {
        "id": "qTQs0hbwxcSR"
      },
      "source": [
        "def make_graph_accumulated(concept_list, filename):\n",
        "  g = Digraph(\"G\", filename=filename)\n",
        "  g.graph_attr[\"rankdir\"] = \"BT\" #change direction to bottom to top \n",
        "  #g.attr(size=\"1000,5\")\n",
        "  #create nodes\n",
        "  for concept in concept_list:\n",
        "    nodename=concept[\"id\"]+\"\\n\"+str(concept[\"terms\"])\n",
        "    g.node(nodename, shape=\"box\")\n",
        "  #create edges (labels accumulated)\n",
        "  for concept_1 in concept_list:\n",
        "    for concept_2 in concept_list:\n",
        "      #find all relations directions c1 to c2\n",
        "      relations_c1_c2 = []\n",
        "      for rel in concept_1[\"relations\"]:\n",
        "        if rel[1]==concept_2[\"id\"]:\n",
        "          relations_c1_c2.append(rel)\n",
        "      #draw arrow between relations \n",
        "      if len(relations_c1_c2)>0:\n",
        "        node1=concept_1[\"id\"]+\"\\n\"+str(concept_1[\"terms\"]) \n",
        "        node2=concept_2[\"id\"]+\"\\n\"+str(concept_2[\"terms\"])\n",
        "        label=\"\"\n",
        "        for i in range(len(relations_c1_c2)):\n",
        "          rel=relations_c1_c2[i]\n",
        "          if i == 0:\n",
        "            label+=rel[0]\n",
        "          else:\n",
        "            label+=\", \"+rel[0]\n",
        "        if label!=\"associativeRelation\":\n",
        "          g.edge(node1, node2, label=label)\n",
        "        else:\n",
        "          g.edge(node1, node2, label=label, dir=\"none\")\n",
        "  return g"
      ],
      "execution_count": null,
      "outputs": []
    },
    {
      "cell_type": "code",
      "metadata": {
        "id": "4gaocnHXGJrl"
      },
      "source": [
        "make_graph_accumulated(concept_list, \"test_graph_acc.gv\"+str(text_id))"
      ],
      "execution_count": null,
      "outputs": []
    }
  ]
}